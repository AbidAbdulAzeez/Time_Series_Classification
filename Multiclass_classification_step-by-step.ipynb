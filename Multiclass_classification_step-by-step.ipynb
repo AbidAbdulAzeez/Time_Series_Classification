{
 "cells": [
  {
   "cell_type": "markdown",
   "id": "445d8dc3",
   "metadata": {},
   "source": [
    "## Performing the classification\n",
    "#### Calling all libraries"
   ]
  },
  {
   "cell_type": "code",
   "execution_count": 1,
   "id": "bb552df8-7541-4b56-b26a-4224af9daf2d",
   "metadata": {},
   "outputs": [],
   "source": [
    "# %pip install -r requirements.txt"
   ]
  },
  {
   "cell_type": "code",
   "execution_count": 2,
   "id": "1531214c",
   "metadata": {},
   "outputs": [],
   "source": [
    "from sklearn.tree import DecisionTreeClassifier\n",
    "from sklearn.ensemble import RandomForestClassifier\n",
    "from sklearn.neighbors import KNeighborsClassifier\n",
    "from sklearn.linear_model import SGDClassifier\n",
    "from sklearn.svm import LinearSVC\n",
    "from sklearn.neural_network import MLPClassifier\n",
    "from lightgbm import LGBMClassifier\n",
    "from sklearn.metrics import accuracy_score\n",
    "from sklearn.metrics import classification_report, confusion_matrix, ConfusionMatrixDisplay\n",
    "from sklearn import tree\n",
    "from sklearn import svm\n",
    "from sklearn import metrics\n",
    "from sklearn.model_selection import train_test_split\n",
    "from sklearn.preprocessing import MinMaxScaler\n",
    "from tsfresh import feature_selection\n",
    "from mrmr import mrmr_classif\n",
    "\n",
    "import numpy as np\n",
    "import pandas as pd     \n",
    "import matplotlib.pyplot as plt\n",
    "import seaborn as sns\n",
    "import tensorflow as tf\n",
    "import lightgbm as lgb\n",
    "import glob\n",
    "import os\n",
    "import re"
   ]
  },
  {
   "cell_type": "markdown",
   "id": "24fc3bef",
   "metadata": {},
   "source": [
    "#### First, define a customized sorting function (for sorting the files)."
   ]
  },
  {
   "cell_type": "code",
   "execution_count": 5,
   "id": "70f4d293",
   "metadata": {},
   "outputs": [],
   "source": [
    "numbers = re.compile(r'(\\d+)')\n",
    "def numericalSort(value):\n",
    "    parts = numbers.split(value)\n",
    "    parts[1::2] = map(int, parts[1::2])\n",
    "    return parts"
   ]
  },
  {
   "cell_type": "markdown",
   "id": "44fe4a38",
   "metadata": {},
   "source": [
    "#### Define path to the preprocessed data folder\n",
    "Read data from the files."
   ]
  },
  {
   "cell_type": "code",
   "execution_count": 7,
   "id": "1389d8c2",
   "metadata": {},
   "outputs": [],
   "source": [
    "path = 'C:/Users/username/Classification/Preprocessed_data' # Replace this with your own location\n",
    "\n",
    "data = pd.read_csv(path+\"/DATA.csv\") # Read the preprocessed data"
   ]
  },
  {
   "cell_type": "markdown",
   "id": "8b293269",
   "metadata": {},
   "source": [
    "#### Generate a \"Feature relevance table\"\n",
    "- Feature relevance table: Presents p-values of each feauture related to each of the classes. From this table, a p-value threshold of < 0.05 can be used used to choose the most relevant features.\n",
    "    - For example, calculate the number of instances for p-value < 0.05 for each feature."
   ]
  },
  {
   "cell_type": "code",
   "execution_count": 9,
   "id": "72544923",
   "metadata": {},
   "outputs": [],
   "source": [
    "df = pd.read_csv('Label.csv') # Here, the label file is read from the location of this code file!\n",
    "num_of_classes = df.shape[0]\n",
    "newdf = pd.DataFrame(np.repeat(df.values, (data.shape[0])/num_of_classes, axis=0))\n",
    "Y = newdf.to_numpy().flatten()\n",
    "\n",
    "# Data Normalization\n",
    "scaler = MinMaxScaler()\n",
    "scaler.fit(data)\n",
    "data_scaled = scaler.transform(data)\n",
    "\n",
    "# Convert numpy array to DataFrame for relevance_table\n",
    "data_scaled_df = pd.DataFrame(data_scaled)\n",
    "\n",
    "relevance_table = feature_selection.relevance.calculate_relevance_table(data_scaled_df, pd.Series(Y), ml_task='classification', multiclass=True)\n",
    "relevance_table.to_csv(\"Feature relevance table.csv\", encoding='utf-8-sig') #Feature relevance table is saved to a csv file"
   ]
  },
  {
   "cell_type": "markdown",
   "id": "56ddb450",
   "metadata": {},
   "source": [
    "#### Form a data table with only electric signals"
   ]
  },
  {
   "cell_type": "code",
   "execution_count": 11,
   "id": "0d4a86bf",
   "metadata": {},
   "outputs": [],
   "source": [
    "dataE = data.drop(data.loc[:, 'MREF minimum':'AP mean_abs_change'].columns, axis=1)"
   ]
  },
  {
   "cell_type": "code",
   "execution_count": 12,
   "id": "c737c47e",
   "metadata": {},
   "outputs": [],
   "source": [
    "#Defining a function to normalization train and test data\n",
    "def scale_data(data_train, data_test):\n",
    "    scaler = MinMaxScaler()\n",
    "    scaler.fit(data_train)\n",
    "    return scaler.transform(data_train), scaler.transform(data_test)"
   ]
  },
  {
   "cell_type": "markdown",
   "id": "02df3da3",
   "metadata": {},
   "source": [
    "#### Feature selection\n",
    "#### Step 1. \n",
    "- The features selected according to their p-values were saved in csv-files, which are read and saved into an array"
   ]
  },
  {
   "cell_type": "code",
   "execution_count": 14,
   "id": "1210434c",
   "metadata": {},
   "outputs": [],
   "source": [
    "feature_path = \"C:/Users/username/Classification/Feature_sets\" # Replace this with your own location of the feature sets\n",
    "\n",
    "\n",
    "feature_files = sorted(glob.glob(feature_path + \"/*features_p-values*.csv\"), key=numericalSort)\n"
   ]
  },
  {
   "cell_type": "code",
   "execution_count": 15,
   "id": "7e5e9a37",
   "metadata": {},
   "outputs": [],
   "source": [
    "p_val_sets = []\n",
    "for f in feature_files:\n",
    "    features = pd.read_csv(f).to_numpy().flatten()\n",
    "    p_val_sets.append(features)"
   ]
  },
  {
   "cell_type": "markdown",
   "id": "6fc06f82",
   "metadata": {},
   "source": [
    "#### Step 2.\n",
    "- According to the number of features selected based on the feature relevance table, the minimum redundance - maximum relevance (mRMR) is used to select a corresponding number of features."
   ]
  },
  {
   "cell_type": "code",
   "execution_count": 17,
   "id": "fd38ada8",
   "metadata": {},
   "outputs": [
    {
     "name": "stderr",
     "output_type": "stream",
     "text": [
      "100%|██████████| 5/5 [00:01<00:00,  3.01it/s]\n",
      "100%|██████████| 10/10 [00:03<00:00,  3.10it/s]\n"
     ]
    }
   ],
   "source": [
    "setnames = [\"5 features\", \"10 features\"] # Name the feature sets (here they are named by the number of features and the used method)\n",
    "mrmr_sets = []\n",
    "\n",
    "for name,s in zip(setnames,p_val_sets):\n",
    "    n = s.size\n",
    "    features = mrmr_classif(data, Y, K=n) # Here the features are chosen from all the data.\n",
    "    df = pd.DataFrame(features)\n",
    "    df.to_csv(feature_path+\"/\"+name+\"_mrmr.csv\", encoding='utf-8-sig') # Saving the selected features\n",
    "    mrmr_sets.append(features)"
   ]
  },
  {
   "cell_type": "code",
   "execution_count": null,
   "id": "a8021565-571c-41bb-8899-997d15a261f0",
   "metadata": {},
   "outputs": [],
   "source": [
    "# Changed to dataE to select only from electric features.\n",
    "mrmr_setsE = []\n",
    "\n",
    "for name,s in zip(setnames,p_val_sets):\n",
    "    n = s.size\n",
    "    featuresE = mrmr_classif(dataE, Y, K=n) # Here the features are chosen only from electric features.\n",
    "    dfE = pd.DataFrame(featuresE)\n",
    "    dfE.to_csv(feature_path+\"/\"+name+\"_mrmrE.csv\", encoding='utf-8-sig') # Saving the selected features\n",
    "    mrmr_setsE.append(featuresE)"
   ]
  },
  {
   "cell_type": "markdown",
   "id": "675258ad",
   "metadata": {},
   "source": [
    "#### Step 3.\n",
    "- Each dataset is split to train and test data, and the data is scaled."
   ]
  },
  {
   "cell_type": "code",
   "execution_count": 19,
   "id": "7a24024f",
   "metadata": {},
   "outputs": [],
   "source": [
    "data_sets_p = []\n",
    "data_sets_mrmr = []\n",
    "\n",
    "for p,m in zip(p_val_sets,mrmr_sets):\n",
    "    selected_data_p = data[p]\n",
    "    selected_data_m = data[m]\n",
    "    \n",
    "    # Get train and test data with p_val features\n",
    "    X_train_p, X_test_p, y_train_p, y_test_p = train_test_split(selected_data_p, Y, test_size=0.25, shuffle=True, random_state = 8)\n",
    "    X_train_p, X_test_p = scale_data(X_train_p, X_test_p)\n",
    "    data_sets_p.append([X_train_p, X_test_p, y_train_p, y_test_p])\n",
    "    \n",
    "    # Get train and test data with mrmr features\n",
    "    X_train_mrmr, X_test_mrmr, y_train_mrmr, y_test_mrmr = train_test_split(selected_data_m, Y, test_size=0.25, shuffle=True, random_state = 8)\n",
    "    X_train_mrmr, X_test_mrmr = scale_data(X_train_mrmr, X_test_mrmr)\n",
    "    data_sets_mrmr.append([X_train_mrmr, X_test_mrmr, y_train_mrmr, y_test_mrmr])"
   ]
  },
  {
   "cell_type": "markdown",
   "id": "6c28ed19",
   "metadata": {},
   "source": [
    "#### Define the classifiers"
   ]
  },
  {
   "cell_type": "code",
   "execution_count": 21,
   "id": "574fb8e7",
   "metadata": {},
   "outputs": [],
   "source": [
    "classifiers = [DecisionTreeClassifier(),\n",
    "               RandomForestClassifier(n_estimators=100),\n",
    "               svm.SVC(random_state=8, max_iter=1000),\n",
    "               KNeighborsClassifier(n_neighbors=3),\n",
    "               SGDClassifier(loss='squared_hinge', max_iter=2000),\n",
    "               MLPClassifier(hidden_layer_sizes=(64, 16, 4), random_state=8, max_iter = 300),\n",
    "               LGBMClassifier()]"
   ]
  },
  {
   "cell_type": "code",
   "execution_count": 22,
   "id": "8eac4f65",
   "metadata": {},
   "outputs": [],
   "source": [
    "clf_names = ['DT', 'RandomForest 100', 'SVM', 'KNN 3', 'SGD', 'MLP (64, 16, 4)', 'LGBM']"
   ]
  },
  {
   "cell_type": "markdown",
   "id": "57fbd817",
   "metadata": {},
   "source": [
    "### Training with datasets selected with p-values and mRMR"
   ]
  },
  {
   "cell_type": "code",
   "execution_count": 24,
   "id": "1f336b98",
   "metadata": {},
   "outputs": [
    {
     "name": "stdout",
     "output_type": "stream",
     "text": [
      "DT p_val\n",
      "0.3161230769230769\n",
      "DT mrmr\n",
      "0.896676923076923\n",
      "\n",
      "RandomForest 100 p_val\n",
      "0.3784\n",
      "RandomForest 100 mrmr\n",
      "0.9073230769230769\n",
      "\n",
      "SVM p_val\n",
      "0.15569230769230769\n",
      "SVM mrmr\n",
      "0.4066461538461538\n",
      "\n",
      "KNN 3 p_val\n",
      "0.34375384615384613\n",
      "KNN 3 mrmr\n",
      "0.8667692307692307\n",
      "\n",
      "SGD p_val\n",
      "0.11643076923076923\n",
      "SGD mrmr\n",
      "0.20252307692307692\n",
      "\n",
      "MLP (64, 16, 4) p_val\n",
      "0.3281846153846154\n",
      "MLP (64, 16, 4) mrmr\n",
      "0.5876307692307692\n",
      "\n",
      "[LightGBM] [Info] Auto-choosing col-wise multi-threading, the overhead of testing was 0.001768 seconds.\n",
      "You can set `force_col_wise=true` to remove the overhead.\n",
      "[LightGBM] [Info] Total Bins 1275\n",
      "[LightGBM] [Info] Number of data points in the train set: 48750, number of used features: 5\n",
      "[LightGBM] [Info] Start training from score -2.559365\n",
      "[LightGBM] [Info] Start training from score -2.565216\n",
      "[LightGBM] [Info] Start training from score -2.575673\n",
      "[LightGBM] [Info] Start training from score -2.570833\n",
      "[LightGBM] [Info] Start training from score -2.563351\n",
      "[LightGBM] [Info] Start training from score -2.589242\n",
      "[LightGBM] [Info] Start training from score -2.569761\n",
      "[LightGBM] [Info] Start training from score -2.551178\n",
      "[LightGBM] [Info] Start training from score -2.561489\n",
      "[LightGBM] [Info] Start training from score -2.559630\n",
      "[LightGBM] [Info] Start training from score -2.564150\n",
      "[LightGBM] [Info] Start training from score -2.557246\n",
      "[LightGBM] [Info] Start training from score -2.557775\n",
      "LGBM p_val\n",
      "0.37846153846153846\n",
      "[LightGBM] [Info] Auto-choosing col-wise multi-threading, the overhead of testing was 0.002226 seconds.\n",
      "You can set `force_col_wise=true` to remove the overhead.\n",
      "[LightGBM] [Info] Total Bins 1275\n",
      "[LightGBM] [Info] Number of data points in the train set: 48750, number of used features: 5\n",
      "[LightGBM] [Info] Start training from score -2.559365\n",
      "[LightGBM] [Info] Start training from score -2.565216\n",
      "[LightGBM] [Info] Start training from score -2.575673\n",
      "[LightGBM] [Info] Start training from score -2.570833\n",
      "[LightGBM] [Info] Start training from score -2.563351\n",
      "[LightGBM] [Info] Start training from score -2.589242\n",
      "[LightGBM] [Info] Start training from score -2.569761\n",
      "[LightGBM] [Info] Start training from score -2.551178\n",
      "[LightGBM] [Info] Start training from score -2.561489\n",
      "[LightGBM] [Info] Start training from score -2.559630\n",
      "[LightGBM] [Info] Start training from score -2.564150\n",
      "[LightGBM] [Info] Start training from score -2.557246\n",
      "[LightGBM] [Info] Start training from score -2.557775\n",
      "LGBM mrmr\n",
      "0.820123076923077\n",
      "\n"
     ]
    }
   ],
   "source": [
    "all_reports_p = []\n",
    "all_reports_mrmr = []\n",
    "\n",
    "# Define indexes\n",
    "X_train_i = 0\n",
    "X_test_i = 1\n",
    "y_train_i = 2\n",
    "y_test_i = 3\n",
    "\n",
    "n = 0\n",
    "for clf in classifiers:\n",
    "\n",
    "    name = clf_names[n]\n",
    "    \n",
    "    p = data_sets_p[0]    # Choose the index of the dataset you wish to use\n",
    "    m = data_sets_mrmr[0]\n",
    "        \n",
    "    # Training with p_vals\n",
    "    clf.fit(p[X_train_i], p[y_train_i])\n",
    "    p1 = clf.predict(p[X_test_i])\n",
    "    print(name+\" p_val\")\n",
    "    report1 = classification_report(p[y_test_i], p1, output_dict=True)\n",
    "    df = pd.DataFrame(report1).transpose()\n",
    "    df = df.round(decimals=2)\n",
    "    print(accuracy_score(p[y_test_i], p1))\n",
    "    all_reports_p.append(df)\n",
    "    \n",
    "    # Training with mrmr\n",
    "    clf.fit(m[X_train_i], m[y_train_i])\n",
    "    p2 = clf.predict(m[X_test_i])\n",
    "    print(name+\" mrmr\")\n",
    "    report2 = classification_report(m[y_test_i], p2, output_dict=True)\n",
    "    df = pd.DataFrame(report2).transpose()\n",
    "    df = df.round(decimals=2)\n",
    "    print(accuracy_score(m[y_test_i], p2))\n",
    "    print(\"\")\n",
    "    \n",
    "    all_reports_mrmr.append(df)\n",
    "    n+=1"
   ]
  },
  {
   "cell_type": "markdown",
   "id": "c31908e2",
   "metadata": {},
   "source": [
    "**Saving the classification reports**"
   ]
  },
  {
   "cell_type": "code",
   "execution_count": 26,
   "id": "bd4edcbf",
   "metadata": {},
   "outputs": [],
   "source": [
    "report_path = 'C:/Users/username/Classification/Reports' # Replace with your own save location"
   ]
  },
  {
   "cell_type": "code",
   "execution_count": 27,
   "id": "cbf6de33",
   "metadata": {},
   "outputs": [],
   "source": [
    "#p\n",
    "reports_comb_p = pd.concat(all_reports_p, axis=1)\n",
    "#Select only precision for each clf\n",
    "reports_prec_p = reports_comb_p.filter(like='precision')\n",
    "reports_prec_p.columns = clf_names\n",
    "\n",
    "reports_prec_p.to_csv(report_path+\"/Classification Reports_p-values.csv\", encoding='utf-8-sig')\n",
    "\n",
    "#mrmr\n",
    "reports_comb_mrmr = pd.concat(all_reports_mrmr, axis=1)\n",
    "#Select only precision for each clf\n",
    "reports_prec_mrmr = reports_comb_mrmr.filter(like='precision')\n",
    "reports_prec_mrmr.columns = clf_names\n",
    "\n",
    "reports_prec_mrmr.to_csv(report_path+\"/Classification Reports_mrmr.csv\", encoding='utf-8-sig')"
   ]
  },
  {
   "cell_type": "markdown",
   "id": "00c2ec30",
   "metadata": {},
   "source": [
    "### Training with all features and only electric features"
   ]
  },
  {
   "cell_type": "code",
   "execution_count": 30,
   "id": "67349858",
   "metadata": {},
   "outputs": [
    {
     "name": "stdout",
     "output_type": "stream",
     "text": [
      "DT\n",
      "0.9004923076923077\n",
      "0.6553230769230769\n",
      "RandomForest 100\n",
      "0.9099076923076923\n",
      "0.8117538461538462\n",
      "SVM\n",
      "0.40135384615384617\n",
      "0.0744\n",
      "KNN 3\n",
      "0.8599384615384615\n",
      "0.47396923076923075\n",
      "SGD\n",
      "0.3114461538461539\n",
      "0.08492307692307692\n",
      "MLP (64, 16, 4)\n",
      "0.6131692307692308\n",
      "0.0944\n",
      "LGBM\n",
      "[LightGBM] [Info] Auto-choosing col-wise multi-threading, the overhead of testing was 0.005127 seconds.\n",
      "You can set `force_col_wise=true` to remove the overhead.\n",
      "[LightGBM] [Info] Total Bins 2550\n",
      "[LightGBM] [Info] Number of data points in the train set: 48750, number of used features: 10\n",
      "[LightGBM] [Info] Start training from score -2.559365\n",
      "[LightGBM] [Info] Start training from score -2.565216\n",
      "[LightGBM] [Info] Start training from score -2.575673\n",
      "[LightGBM] [Info] Start training from score -2.570833\n",
      "[LightGBM] [Info] Start training from score -2.563351\n",
      "[LightGBM] [Info] Start training from score -2.589242\n",
      "[LightGBM] [Info] Start training from score -2.569761\n",
      "[LightGBM] [Info] Start training from score -2.551178\n",
      "[LightGBM] [Info] Start training from score -2.561489\n",
      "[LightGBM] [Info] Start training from score -2.559630\n",
      "[LightGBM] [Info] Start training from score -2.564150\n",
      "[LightGBM] [Info] Start training from score -2.557246\n",
      "[LightGBM] [Info] Start training from score -2.557775\n",
      "0.8755692307692308\n",
      "[LightGBM] [Info] Auto-choosing col-wise multi-threading, the overhead of testing was 0.005863 seconds.\n",
      "You can set `force_col_wise=true` to remove the overhead.\n",
      "[LightGBM] [Info] Total Bins 2550\n",
      "[LightGBM] [Info] Number of data points in the train set: 48750, number of used features: 10\n",
      "[LightGBM] [Info] Start training from score -2.559365\n",
      "[LightGBM] [Info] Start training from score -2.565216\n",
      "[LightGBM] [Info] Start training from score -2.575673\n",
      "[LightGBM] [Info] Start training from score -2.570833\n",
      "[LightGBM] [Info] Start training from score -2.563351\n",
      "[LightGBM] [Info] Start training from score -2.589242\n",
      "[LightGBM] [Info] Start training from score -2.569761\n",
      "[LightGBM] [Info] Start training from score -2.551178\n",
      "[LightGBM] [Info] Start training from score -2.561489\n",
      "[LightGBM] [Info] Start training from score -2.559630\n",
      "[LightGBM] [Info] Start training from score -2.564150\n",
      "[LightGBM] [Info] Start training from score -2.557246\n",
      "[LightGBM] [Info] Start training from score -2.557775\n",
      "0.5203076923076924\n"
     ]
    }
   ],
   "source": [
    "all_reports_E = []\n",
    "all_reports_ALL = []\n",
    "\n",
    "if (data.shape[0] != dataE.shape[0]):\n",
    "    raise Exception(\"Data shapes don't match!\")\n",
    "else:\n",
    "    df = pd.read_csv('Label.csv')\n",
    "    num_of_classes = df.shape[0]\n",
    "    newdf = pd.DataFrame(np.repeat(df.values, (dataE.shape[0])/num_of_classes, axis=0))\n",
    "    Y = newdf.to_numpy().flatten()\n",
    "    \n",
    "# X_train, X_test, y_train, y_test = train_test_split(data[feature_setsH[3]], Y, test_size=0.25, shuffle=True, random_state = 8)\n",
    "X_train, X_test, y_train, y_test = train_test_split(data[features], Y, test_size=0.25, shuffle=True, random_state = 8)\n",
    "X_train, X_test = scale_data(X_train, X_test)\n",
    "\n",
    "# X_trainE, X_testE, y_trainE, y_testE = train_test_split(dataE[feature_setsE[3]], Y, test_size=0.25, shuffle=True, random_state = 8)\n",
    "X_trainE, X_testE, y_trainE, y_testE = train_test_split(dataE[featuresE], Y, test_size=0.25, shuffle=True, random_state = 8)\n",
    "X_trainE, X_testE = scale_data(X_trainE, X_testE)\n",
    "\n",
    "n = 0\n",
    "for clf in classifiers:\n",
    "\n",
    "    print(clf_names[n])\n",
    "    \n",
    "    # Training with all signals\n",
    "    clf.fit(X_train, y_train)\n",
    "    p1 = clf.predict(X_test)\n",
    "    \n",
    "    report1 = classification_report(y_test, p1, output_dict=True)\n",
    "    df = pd.DataFrame(report1).transpose()\n",
    "    print(accuracy_score(y_test, p1))\n",
    "    all_reports_ALL.append(df)\n",
    "        \n",
    "    # Training with electric signals\n",
    "    clf.fit(X_trainE, y_trainE)\n",
    "    p2 = clf.predict(X_testE)\n",
    "    \n",
    "    report2 = classification_report(y_testE, p2, output_dict=True)\n",
    "    df = pd.DataFrame(report2).transpose()\n",
    "    print(accuracy_score(y_testE, p2))\n",
    "    all_reports_E.append(df)\n",
    "    n+=1"
   ]
  },
  {
   "cell_type": "code",
   "execution_count": 31,
   "id": "a886ef61",
   "metadata": {},
   "outputs": [],
   "source": [
    "reports_comb = pd.concat(all_reports_ALL, axis=1)\n",
    "\n",
    "#Select only precision for each clf\n",
    "reports_prec_comb = reports_comb.filter(like='precision')\n",
    "reports_prec_comb.columns = clf_names\n",
    "reports_prec_comb.to_csv(report_path+\"/Classification_Reports_ALL DATA.csv\", encoding='utf-8-sig')\n",
    "\n",
    "reports_combE = pd.concat(all_reports_E, axis=1)\n",
    "\n",
    "#Select only precision for each clf\n",
    "reports_prec_combE = reports_combE.filter(like='precision')\n",
    "reports_prec_combE.columns = clf_names\n",
    "reports_prec_combE.to_csv(report_path+\"/Classification_Reports_ELECTRIC.csv\", encoding='utf-8-sig')"
   ]
  },
  {
   "cell_type": "markdown",
   "id": "70a121a2",
   "metadata": {},
   "source": [
    "### Example of producing confusion matrix\n",
    "#### 1. Choose data\n",
    "- Here, classification results are compared between features selected all vs. only elecric signals"
   ]
  },
  {
   "cell_type": "code",
   "execution_count": 33,
   "id": "35f2e2cd",
   "metadata": {},
   "outputs": [],
   "source": [
    "feature_path = \"C:/Users/username/Classification/Feature_sets\" # Replace this with your own location of the feature sets"
   ]
  },
  {
   "cell_type": "markdown",
   "id": "3d9b307f",
   "metadata": {},
   "source": [
    "#### 2. Define train and test data, and class labels"
   ]
  },
  {
   "cell_type": "code",
   "execution_count": 35,
   "id": "6cbb7bde",
   "metadata": {},
   "outputs": [],
   "source": [
    "selectE = dataE[featuresE]\n",
    "\n",
    "X_train_cmE, X_test_cmE, y_train_cmE, y_test_cmE = train_test_split(selectE, Y, test_size=0.25, shuffle=True, random_state=8)\n",
    "X_train_cmE, X_test_cmE = scale_data(X_train_cmE, X_test_cmE)\n",
    "\n",
    "classlabels = [\"F1\", \"F2\", \"F3\", \"H\", \"L1\", \"L2\", \"L3\", \"SP1\", \"SP2\", \"SP3\", \"ST1\", \"ST2\", \"ST3\"]\n",
    "numlabels = [\"0\", \"1\", \"2\", \"3\", \"4\", \"5\", \"6\", \"7\", \"8\", \"9\", \"10\", \"11\", \"12\"]\n",
    "\n",
    "clf = DecisionTreeClassifier()\n",
    "clf.fit(X_train_cmE, y_train_cmE)\n",
    "p = clf.predict(X_test_cmE)\n",
    "cmE = confusion_matrix(y_test_cmE, p, labels=clf.classes_)"
   ]
  },
  {
   "cell_type": "code",
   "execution_count": 36,
   "id": "01829544",
   "metadata": {},
   "outputs": [],
   "source": [
    "select = data[features]\n",
    "\n",
    "X_train_cm, X_test_cm, y_train_cm, y_test_cm = train_test_split(select, Y, test_size=0.25, shuffle=True, random_state=8)\n",
    "X_train_cm, X_test_cm = scale_data(X_train_cm, X_test_cm)\n",
    "\n",
    "classlabels = [\"F1\", \"F2\", \"F3\", \"H\", \"L1\", \"L2\", \"L3\", \"SP1\", \"SP2\", \"SP3\", \"ST1\", \"ST2\", \"ST3\"]\n",
    "numlabels = [\"0\", \"1\", \"2\", \"3\", \"4\", \"5\", \"6\", \"7\", \"8\", \"9\", \"10\", \"11\", \"12\"]\n",
    "\n",
    "clf = DecisionTreeClassifier()\n",
    "clf.fit(X_train_cm, y_train_cm)\n",
    "p = clf.predict(X_test_cm)\n",
    "cm = confusion_matrix(y_test_cm, p, labels=clf.classes_)"
   ]
  },
  {
   "cell_type": "markdown",
   "id": "9c04cba7",
   "metadata": {},
   "source": [
    "#### 3. Produce confusion matrices"
   ]
  },
  {
   "cell_type": "code",
   "execution_count": 38,
   "id": "b4a6f25d",
   "metadata": {},
   "outputs": [
    {
     "data": {
      "image/png": "[encoded data removed]",
      "text/plain": [
       "<Figure size 640x480 with 2 Axes>"
      ]
     },
     "metadata": {},
     "output_type": "display_data"
    }
   ],
   "source": [
    "sns.heatmap(cmE, annot=True, xticklabels=classlabels, yticklabels=classlabels, fmt='g', linewidth=.5, cmap=plt.cm.Blues)\n",
    "plt.yticks(rotation=0)\n",
    "plt.title(\"DecisionTree - 10 electric features\")\n",
    "plt.ylabel('True label', fontsize = 12)\n",
    "plt.xlabel('Predicted label', fontsize = 12)\n",
    "plt.show()"
   ]
  },
  {
   "cell_type": "code",
   "execution_count": 39,
   "id": "ca387bb3",
   "metadata": {},
   "outputs": [
    {
     "data": {
      "image/png": "[encoded data removed]",
      "text/plain": [
       "<Figure size 640x480 with 2 Axes>"
      ]
     },
     "metadata": {},
     "output_type": "display_data"
    }
   ],
   "source": [
    "sns.heatmap(cm, annot=True, xticklabels=classlabels, yticklabels=classlabels, fmt='g', linewidth=.001, cmap=plt.cm.Blues, annot_kws={\"fontsize\":8})\n",
    "plt.yticks(rotation=0)\n",
    "plt.title(\"DecisionTree - 10 features\")\n",
    "plt.ylabel('True label', fontsize = 12)\n",
    "plt.xlabel('Predicted label', fontsize = 12)\n",
    "plt.show()"
   ]
  },
  {
   "cell_type": "markdown",
   "id": "3b031328",
   "metadata": {},
   "source": [
    "### Comparing results with choosing a variying number of features\n",
    "In the example, starting with 10 features, the number of features that is chosen is increased by 5 each round until 50 is reached. A DecisionTree classifier is trained with each feature set and the results are saved."
   ]
  },
  {
   "cell_type": "code",
   "execution_count": 41,
   "id": "a87a6d07",
   "metadata": {
    "scrolled": true
   },
   "outputs": [
    {
     "name": "stderr",
     "output_type": "stream",
     "text": [
      "100%|██████████| 10/10 [00:05<00:00,  1.71it/s]\n"
     ]
    },
    {
     "name": "stdout",
     "output_type": "stream",
     "text": [
      "Number of selected features: 10\n",
      "['RSP minimum', 'AP maximum', 'PSP mean', 'RSP median', 'PSP median', 'PSP sum_of_values', 'RSP mean', 'PSP minimum', 'RSP sum_of_values', 'PSP maximum']\n",
      "              precision  recall  f1-score  support\n",
      "0                  0.95    0.94      0.95   1229.0\n",
      "1                  0.95    0.95      0.95   1251.0\n",
      "2                  0.97    0.96      0.97   1290.0\n",
      "3                  0.79    0.76      0.78   1272.0\n",
      "4                  0.75    0.77      0.76   1244.0\n",
      "5                  0.77    0.77      0.77   1340.0\n",
      "6                  0.83    0.83      0.83   1268.0\n",
      "7                  0.86    0.87      0.87   1198.0\n",
      "8                  0.90    0.92      0.91   1237.0\n",
      "9                  0.96    0.96      0.96   1230.0\n",
      "10                 0.99    1.00      0.99   1247.0\n",
      "11                 0.99    0.99      0.99   1221.0\n",
      "12                 0.99    0.99      0.99   1223.0\n",
      "accuracy           0.90    0.90      0.90      0.9\n",
      "macro avg          0.90    0.90      0.90  16250.0\n",
      "weighted avg       0.90    0.90      0.90  16250.0\n"
     ]
    },
    {
     "name": "stderr",
     "output_type": "stream",
     "text": [
      "100%|██████████| 20/20 [00:09<00:00,  2.04it/s]\n"
     ]
    },
    {
     "name": "stdout",
     "output_type": "stream",
     "text": [
      "Number of selected features: 20\n",
      "['RSP minimum', 'AP maximum', 'PSP mean', 'RSP median', 'PSP median', 'PSP sum_of_values', 'RSP mean', 'PSP minimum', 'RSP sum_of_values', 'PSP maximum', 'AP mean', 'AP median', 'AP minimum', 'AP sum_of_values', 'RSP abs_energy', 'MREF last_location_of_maximum', 'MREF first_location_of_maximum', 'MREF last_location_of_minimum', 'MREF first_location_of_minimum', 'RSP maximum']\n",
      "              precision  recall  f1-score  support\n",
      "0                  0.90    0.92      0.91   1229.0\n",
      "1                  0.92    0.90      0.91   1251.0\n",
      "2                  0.97    0.97      0.97   1290.0\n",
      "3                  0.81    0.82      0.82   1272.0\n",
      "4                  0.77    0.76      0.76   1244.0\n",
      "5                  0.79    0.79      0.79   1340.0\n",
      "6                  0.83    0.84      0.83   1268.0\n",
      "7                  0.85    0.86      0.86   1198.0\n",
      "8                  0.92    0.90      0.91   1237.0\n",
      "9                  0.96    0.96      0.96   1230.0\n",
      "10                 0.99    0.99      0.99   1247.0\n",
      "11                 0.98    0.99      0.98   1221.0\n",
      "12                 0.99    0.99      0.99   1223.0\n",
      "accuracy           0.90    0.90      0.90      0.9\n",
      "macro avg          0.90    0.90      0.90  16250.0\n",
      "weighted avg       0.90    0.90      0.90  16250.0\n"
     ]
    },
    {
     "name": "stderr",
     "output_type": "stream",
     "text": [
      "100%|██████████| 30/30 [00:14<00:00,  2.02it/s]\n"
     ]
    },
    {
     "name": "stdout",
     "output_type": "stream",
     "text": [
      "Number of selected features: 30\n",
      "['RSP minimum', 'AP maximum', 'PSP mean', 'RSP median', 'PSP median', 'PSP sum_of_values', 'RSP mean', 'PSP minimum', 'RSP sum_of_values', 'PSP maximum', 'AP mean', 'AP median', 'AP minimum', 'AP sum_of_values', 'RSP abs_energy', 'MREF last_location_of_maximum', 'MREF first_location_of_maximum', 'MREF last_location_of_minimum', 'MREF first_location_of_minimum', 'RSP maximum', 'PSP abs_energy', 'MREF abs_energy', 'RSP skewness', 'AP abs_energy', 'AP standard_deviation', 'AP kurtosis', 'RSP mean_abs_change', 'RSP abs_sum_of_changes', 'AP mean_abs_change', 'AP abs_sum_of_changes']\n",
      "              precision  recall  f1-score   support\n",
      "0                  0.83    0.82      0.82   1229.00\n",
      "1                  0.82    0.84      0.83   1251.00\n",
      "2                  0.94    0.93      0.94   1290.00\n",
      "3                  0.74    0.75      0.75   1272.00\n",
      "4                  0.59    0.60      0.60   1244.00\n",
      "5                  0.61    0.60      0.60   1340.00\n",
      "6                  0.72    0.71      0.72   1268.00\n",
      "7                  0.76    0.78      0.77   1198.00\n",
      "8                  0.86    0.86      0.86   1237.00\n",
      "9                  0.94    0.93      0.94   1230.00\n",
      "10                 1.00    0.99      0.99   1247.00\n",
      "11                 0.98    0.99      0.98   1221.00\n",
      "12                 0.99    0.99      0.99   1223.00\n",
      "accuracy           0.83    0.83      0.83      0.83\n",
      "macro avg          0.83    0.83      0.83  16250.00\n",
      "weighted avg       0.83    0.83      0.83  16250.00\n"
     ]
    },
    {
     "name": "stderr",
     "output_type": "stream",
     "text": [
      "100%|██████████| 40/40 [00:18<00:00,  2.12it/s]\n"
     ]
    },
    {
     "name": "stdout",
     "output_type": "stream",
     "text": [
      "Number of selected features: 40\n",
      "['RSP minimum', 'AP maximum', 'PSP mean', 'RSP median', 'PSP median', 'PSP sum_of_values', 'RSP mean', 'PSP minimum', 'RSP sum_of_values', 'PSP maximum', 'AP mean', 'AP median', 'AP minimum', 'AP sum_of_values', 'RSP abs_energy', 'MREF last_location_of_maximum', 'MREF first_location_of_maximum', 'MREF last_location_of_minimum', 'MREF first_location_of_minimum', 'RSP maximum', 'PSP abs_energy', 'MREF abs_energy', 'RSP skewness', 'AP abs_energy', 'AP standard_deviation', 'AP kurtosis', 'RSP mean_abs_change', 'RSP abs_sum_of_changes', 'AP mean_abs_change', 'AP abs_sum_of_changes', 'AP variance', 'PSP mean_abs_change', 'PSP abs_sum_of_changes', 'AP skewness', 'RSP kurtosis', 'PSP skewness', 'RSP standard_deviation', 'PSP kurtosis', 'MREF mean_abs_change', 'U median']\n",
      "              precision  recall  f1-score   support\n",
      "0                  0.79    0.81      0.80   1229.00\n",
      "1                  0.81    0.79      0.80   1251.00\n",
      "2                  0.94    0.94      0.94   1290.00\n",
      "3                  0.69    0.72      0.71   1272.00\n",
      "4                  0.51    0.53      0.52   1244.00\n",
      "5                  0.55    0.52      0.53   1340.00\n",
      "6                  0.66    0.66      0.66   1268.00\n",
      "7                  0.69    0.70      0.69   1198.00\n",
      "8                  0.80    0.78      0.79   1237.00\n",
      "9                  0.91    0.90      0.90   1230.00\n",
      "10                 0.99    0.99      0.99   1247.00\n",
      "11                 0.98    0.98      0.98   1221.00\n",
      "12                 0.98    0.99      0.98   1223.00\n",
      "accuracy           0.79    0.79      0.79      0.79\n",
      "macro avg          0.79    0.79      0.79  16250.00\n",
      "weighted avg       0.79    0.79      0.79  16250.00\n"
     ]
    },
    {
     "name": "stderr",
     "output_type": "stream",
     "text": [
      "100%|██████████| 50/50 [00:20<00:00,  2.38it/s]\n"
     ]
    },
    {
     "name": "stdout",
     "output_type": "stream",
     "text": [
      "Number of selected features: 50\n",
      "['RSP minimum', 'AP maximum', 'PSP mean', 'RSP median', 'PSP median', 'PSP sum_of_values', 'RSP mean', 'PSP minimum', 'RSP sum_of_values', 'PSP maximum', 'AP mean', 'AP median', 'AP minimum', 'AP sum_of_values', 'RSP abs_energy', 'MREF last_location_of_maximum', 'MREF first_location_of_maximum', 'MREF last_location_of_minimum', 'MREF first_location_of_minimum', 'RSP maximum', 'PSP abs_energy', 'MREF abs_energy', 'RSP skewness', 'AP abs_energy', 'AP standard_deviation', 'AP kurtosis', 'RSP mean_abs_change', 'RSP abs_sum_of_changes', 'AP mean_abs_change', 'AP abs_sum_of_changes', 'AP variance', 'PSP mean_abs_change', 'PSP abs_sum_of_changes', 'AP skewness', 'RSP kurtosis', 'PSP skewness', 'RSP standard_deviation', 'PSP kurtosis', 'MREF mean_abs_change', 'U median', 'MREF kurtosis', 'MREF abs_sum_of_changes', 'U sum_of_values', 'U mean', 'PSP standard_deviation', 'PSP first_location_of_maximum', 'RSP variance', 'RSP first_location_of_maximum', 'W median', 'U maximum']\n",
      "              precision  recall  f1-score   support\n",
      "0                  0.80    0.79      0.80   1229.00\n",
      "1                  0.80    0.81      0.80   1251.00\n",
      "2                  0.95    0.93      0.94   1290.00\n",
      "3                  0.71    0.71      0.71   1272.00\n",
      "4                  0.51    0.53      0.52   1244.00\n",
      "5                  0.55    0.52      0.54   1340.00\n",
      "6                  0.65    0.67      0.66   1268.00\n",
      "7                  0.67    0.70      0.69   1198.00\n",
      "8                  0.79    0.78      0.79   1237.00\n",
      "9                  0.90    0.90      0.90   1230.00\n",
      "10                 0.99    0.99      0.99   1247.00\n",
      "11                 0.99    0.98      0.98   1221.00\n",
      "12                 0.98    0.99      0.99   1223.00\n",
      "accuracy           0.79    0.79      0.79      0.79\n",
      "macro avg          0.79    0.79      0.79  16250.00\n",
      "weighted avg       0.79    0.79      0.79  16250.00\n"
     ]
    }
   ],
   "source": [
    "selection_reports = []\n",
    "\n",
    "num = 10   # How many best features we want to select on first round\n",
    "intval = 10  # Increase in features chosen\n",
    "\n",
    "while num <= 50:\n",
    "    \n",
    "    selected_features = mrmr_classif(data, Y, K=num)\n",
    "    selected_data = data[selected_features]\n",
    "    X_train, X_test, y_train, y_test = train_test_split(selected_data, Y, test_size=0.25,\n",
    "                                                    shuffle=True, random_state = 8)\n",
    "    X_train, X_test = scale_data(X_train, X_test)\n",
    "    \n",
    "    clf = DecisionTreeClassifier()\n",
    "    clf.fit(X_train, y_train)\n",
    "    p = clf.predict(X_test)\n",
    "    report = classification_report(y_test, p, output_dict=True)\n",
    "    df = pd.DataFrame(report).transpose()\n",
    "    df = df.round(decimals=2)\n",
    "    \n",
    "    print(\"Number of selected features: \" + str(num))\n",
    "    print(selected_features)\n",
    "    print(df)\n",
    "    selection_reports.append(df)\n",
    "    \n",
    "    num += intval"
   ]
  },
  {
   "cell_type": "code",
   "execution_count": 42,
   "id": "ec8821c7",
   "metadata": {},
   "outputs": [],
   "source": [
    "reports_final_comb = pd.concat(selection_reports, axis=1)\n",
    "\n",
    "reports_comb = reports_final_comb.filter(like='precision')\n",
    "reports_comb.columns = [\"10\", \"20\", \"30\", \"40\", \"50\"] # column names as the number of features\n",
    "reports_comb.to_csv(report_path+\"/Feature selection comparison.csv\", encoding='utf-8-sig')"
   ]
  },
  {
   "cell_type": "markdown",
   "id": "6e28680e",
   "metadata": {},
   "source": [
    "### Memory profiling\n",
    "- To compare the memory usage of each classifier during training, memory_profiler is used.\n",
    "- The memory profiling is done row-by-row, calling the functions for training the classifiers separately.\n",
    "- The results are saved in text format.\n",
    "- Install the memory_profiler via pip: pip install -U memory_profiler"
   ]
  },
  {
   "cell_type": "code",
   "execution_count": 45,
   "id": "ad86b915",
   "metadata": {},
   "outputs": [
    {
     "name": "stdout",
     "output_type": "stream",
     "text": [
      "\n",
      "\n",
      "*** Profile printout saved to text file mprof_DT. \n",
      "\n",
      "\n",
      "*** Profile printout saved to text file mprof_RF100. \n",
      "\n",
      "\n",
      "*** Profile printout saved to text file mprof_SVM. \n",
      "\n",
      "\n",
      "*** Profile printout saved to text file mprof_KNN3. \n",
      "\n",
      "\n",
      "*** Profile printout saved to text file mprof_SGD. \n",
      "\n",
      "\n",
      "*** Profile printout saved to text file mprof_MLP. \n",
      "[LightGBM] [Info] Auto-choosing col-wise multi-threading, the overhead of testing was 0.034120 seconds.\n",
      "You can set `force_col_wise=true` to remove the overhead.\n",
      "[LightGBM] [Info] Total Bins 11841\n",
      "[LightGBM] [Info] Number of data points in the train set: 48750, number of used features: 50\n",
      "[LightGBM] [Info] Start training from score -2.559365\n",
      "[LightGBM] [Info] Start training from score -2.565216\n",
      "[LightGBM] [Info] Start training from score -2.575673\n",
      "[LightGBM] [Info] Start training from score -2.570833\n",
      "[LightGBM] [Info] Start training from score -2.563351\n",
      "[LightGBM] [Info] Start training from score -2.589242\n",
      "[LightGBM] [Info] Start training from score -2.569761\n",
      "[LightGBM] [Info] Start training from score -2.551178\n",
      "[LightGBM] [Info] Start training from score -2.561489\n",
      "[LightGBM] [Info] Start training from score -2.559630\n",
      "[LightGBM] [Info] Start training from score -2.564150\n",
      "[LightGBM] [Info] Start training from score -2.557246\n",
      "[LightGBM] [Info] Start training from score -2.557775\n",
      "\n",
      "\n",
      "*** Profile printout saved to text file mprof_LGBM. \n"
     ]
    },
    {
     "data": {
      "text/plain": [
       "Filename: C:\\Users\\tgdago\\Desktop\\To Abid\\Training_for_memory_profiling.py\n",
       "\n",
       "Line #    Mem usage    Increment  Occurrences   Line Contents\n",
       "=============================================================\n",
       "    38   1373.9 MiB   1373.9 MiB           1   def train_LGBM(X,y):\n",
       "    39   1373.9 MiB      0.0 MiB           1       clf = LGBMClassifier()\n",
       "    40   1376.5 MiB      2.6 MiB           1       clf.fit(X,y)"
      ]
     },
     "metadata": {},
     "output_type": "display_data"
    }
   ],
   "source": [
    "import Training_for_memory_profiling as training    # Importing the .py-file with functions to profile\n",
    "                                                    # Have this in the same location as this code file!\n",
    "\n",
    "%reload_ext memory_profiler\n",
    "%mprun -T mprof_DT -c -f training.train_DT training.train_DT(X_train,y_train)\n",
    "%mprun -T mprof_RF100 -c -f training.train_RF100 training.train_RF100(X_train,y_train)\n",
    "%mprun -T mprof_SVM -c -f training.train_SVM training.train_SVM(X_train,y_train)\n",
    "%mprun -T mprof_KNN3 -c -f training.train_KNN training.train_KNN(X_train,y_train)\n",
    "%mprun -T mprof_SGD -c -f training.train_SGD training.train_SGD(X_train,y_train)\n",
    "%mprun -T mprof_MLP -c -f training.train_MLP training.train_MLP(X_train,y_train)\n",
    "%mprun -T mprof_LGBM -c -f training.train_LGBM training.train_LGBM(X_train,y_train)"
   ]
  }
 ],
 "metadata": {
  "kernelspec": {
   "display_name": "Python 3 (ipykernel)",
   "language": "python",
   "name": "python3"
  },
  "language_info": {
   "codemirror_mode": {
    "name": "ipython",
    "version": 3
   },
   "file_extension": ".py",
   "mimetype": "text/x-python",
   "name": "python",
   "nbconvert_exporter": "python",
   "pygments_lexer": "ipython3",
   "version": "3.11.9"
  }
 },
 "nbformat": 4,
 "nbformat_minor": 5
}
